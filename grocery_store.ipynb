{
  "nbformat": 4,
  "nbformat_minor": 0,
  "metadata": {
    "colab": {
      "provenance": [],
      "authorship_tag": "ABX9TyMFQVB8WqMcz6cG+i90b74i",
      "include_colab_link": true
    },
    "kernelspec": {
      "name": "python3",
      "display_name": "Python 3"
    },
    "language_info": {
      "name": "python"
    }
  },
  "cells": [
    {
      "cell_type": "markdown",
      "metadata": {
        "id": "view-in-github",
        "colab_type": "text"
      },
      "source": [
        "<a href=\"https://colab.research.google.com/github/e0524002-blip/MD23CL202/blob/main/grocery_store.ipynb\" target=\"_parent\"><img src=\"https://colab.research.google.com/assets/colab-badge.svg\" alt=\"Open In Colab\"/></a>"
      ]
    },
    {
      "cell_type": "code",
      "execution_count": 5,
      "metadata": {
        "colab": {
          "base_uri": "https://localhost:8080/",
          "height": 1000
        },
        "collapsed": true,
        "id": "b5cYn7fJvNig",
        "outputId": "2bab5239-2ad6-4700-df36-6d16cea6ac51"
      },
      "outputs": [
        {
          "output_type": "stream",
          "name": "stdout",
          "text": [
            "\n",
            "=== Grocery Store Menu ===\n",
            "1 .Show Products\n",
            "2 .Add to cart\n",
            "3 .Remove from cart\n",
            "4 .View Cart\n",
            "5 . Checkout and Exit\n"
          ]
        },
        {
          "output_type": "stream",
          "name": "stderr",
          "text": [
            "ERROR:root:Internal Python error in the inspect module.\n",
            "Below is the traceback from this internal error.\n",
            "\n"
          ]
        },
        {
          "output_type": "stream",
          "name": "stdout",
          "text": [
            

      
        "#grocery store\n",
        "#developan menu driven application\n",
        "while True:\n",
        "       print(\"\\n=== Grocery Store Menu ===\")\n",
        "       print(\"1 .Show Products\")\n",
        "       print(\"2 .Add to cart\")\n",
        "       print(\"3 .Remove from cart\")\n",
        "       print(\"4 .View Cart\")\n",
        "       print(\"5 . Checkout and Exit\")\n",
        "\n",
        "       choice = input(\"Enter your choice: \")\n",
        "\n",
        "       if choice == '1':\n",
        "        show_products()\n",
        "       elif choice == '2':\n",
        "        add_to_cart()\n",
        "       elif choice == '3':\n",
        "        remove_from_cart()\n",
        "       elif choice == '4':\n",
        "        show_cart()\n",
        "       elif choice == '5':\n",
        "        checkout_and_exit()\n",
        "       else:\n",
        "        print(\"Invalid choice. Please try again.\")"
      ]
    },
    {
      "cell_type": "code",
      "source": [
        "#step 1: Available products and prices\n",
        "#Define a new list products for listing the grocery item\n",
        "products =[\"vegetables\",\"Bread\",\"Butter\",\"Jam\"]\n",
        "cost =[100.50,35.75, 156.25,80.75]\n",
        "\n",
        "#define Cart : EMPTY\n",
        "cart =[]\n",
        "\n",
        " #Display the menu\n",
        "def show_products():\n",
        "  print(\"\\n The Available Products\")\n",
        "  for i,item in enumerate(products):\n",
        "    print(f\"{i+1}. {item} - {cost[i]}\")"
      ],
      "metadata": {
        "id": "RJnWHPzxyj8a"
      },
      "execution_count": 6,
      "outputs": []
    },
    {
      "cell_type": "code",
      "source": [
        "#Add item to cart\n",
        "def add_to_cart():\n",
        "  show_products()\n",
        "  choice= int(input(\"Enter the product number to add:\"))-1\n",
        "  if 0 <= choice < len(products):\n",
        "    cart.append(choice)\n",
        "    print(f\"{products[choice]} added to the cart !\")\n",
        "  else:\n",
        "    print(\"Invaild choice !\")"
      ],
      "metadata": {
        "id": "AxkbO2JU0oB7"
      },
      "execution_count": 7,
      "outputs": []
    },
    {
      "cell_type": "code",
      "source": [
        "def remove_from_cart():\n",
        "  if not cart:\n",
        "    print(\"cart is empty !\")\n",
        "    return\n",
        "  print(\"\\nYour cart:\")\n",
        "  total = 0\n",
        "  for i, product_index in enumerate(cart):\n",
        "    print(f\"{i+1}. {products[product_index]} - {cost[product_index]}\")\n",
        "    total += cost[product_index]\n",
        "\n",
        "  while True:\n",
        "    try:\n",
        "      choice = int(input(\"Enter the item number to remove (or 0 to cancel): \")) - 1\n",
        "      if choice == -1:\n",
        "        print(\"Removal cancelled.\")\n",
        "        return\n",
        "      if 0 <= choice < len(cart):\n",
        "        removed_item_index = cart.pop(choice)\n",
        "        print(f\"{products[removed_item_index]} removed from the cart!\")\n",
        "        break\n",
        "      else:\n",
        "        print(\"Invalid item number. Please try again.\")\n",
        "    except ValueError:\n",
        "      print(\"Invalid input. Please enter a number.\")"
      ],
      "metadata": {
        "id": "mUFNdZMV2Pf7"
      },
      "execution_count": 9,
      "outputs": []
    },
    {
      "cell_type": "code",
      "metadata": {
        "id": "145479f8"
      },
      "source": [
        "def show_cart():\n",
        "  if not cart:\n",
        "    print(\"Your cart is empty.\")\n",
        "    return\n",
        "\n",
        "  print(\"\\n--- Your Cart ---\")\n",
        "  total_cost = 0\n",
        "  for i, product_index in enumerate(cart):\n",
        "    product_name = products[product_index]\n",
        "    product_price = cost[product_index]\n",
        "    print(f\"{i+1}. {product_name} - ${product_price:.2f}\")\n",
        "    total_cost += product_price\n",
        "  print(f\"\\nTotal: ${total_cost:.2f}\")\n",
        "  print(\"-----------------\")\n",
        "\n",
        "def checkout_and_exit():\n",
        "  show_cart()\n",
        "  if cart:\n",
        "    print(\"\\nProceeding to checkout...\")\n",
        "    # Here you would add actual checkout logic (e.g., payment processing)\n",
        "    print(\"Checkout complete. Thank you for your purchase!\")\n",
        "  else:\n",
        "    print(\"\\nCannot checkout. Your cart is empty.\")\n",
        "  print(\"Exiting the Grocery Store application. Goodbye!\")\n",
        "  exit() # Exit the program"
      ],
      "execution_count": 10,
      "outputs": []
    }
  ]
}
