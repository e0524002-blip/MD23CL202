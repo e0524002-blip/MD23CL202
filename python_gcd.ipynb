{
  "nbformat": 4,
  "nbformat_minor": 0,
  "metadata": {
    "colab": {
      "provenance": [],
      "authorship_tag": "ABX9TyNE8mxCXgc6/37ZIlOdlsiq",
      "include_colab_link": true
    },
    "kernelspec": {
      "name": "python3",
      "display_name": "Python 3"
    },
    "language_info": {
      "name": "python"
    }
  },
  "cells": [
    {
      "cell_type": "markdown",
      "metadata": {
        "id": "view-in-github",
        "colab_type": "text"
      },
      "source": [
        "<a href=\"https://colab.research.google.com/github/e0524002-blip/MD23CL202/blob/main/python_gcd.ipynb\" target=\"_parent\"><img src=\"https://colab.research.google.com/assets/colab-badge.svg\" alt=\"Open In Colab\"/></a>"
      ]
    },
    {
      "cell_type": "code",
      "execution_count": 2,
      "metadata": {
        "id": "npd7QDlaj7xM"
      },
      "outputs": [],
      "source": [
        "def gcd(a,b):\n",
        "    while b!= 0:\n",
        "        a,b=b,a%b\n",
        "    return a"
      ]
    },
    {
      "cell_type": "code",
      "metadata": {
        "id": "90794fe2"
      },
      "source": [
        "def gcd(a,b):\n",
        "    while b!= 0:\n",
        "        a,b=b,a%b\n",
        "    return a"
      ],
      "execution_count": 5,
      "outputs": []
    },
    {
      "cell_type": "code",
      "metadata": {
        "id": "03422f94"
      },
      "source": [
        "def gcd(a,b):\n",
        "    while b!= 0:\n",
        "        a,b=b,a%b\n",
        "    return a"
      ],
      "execution_count": 8,
      "outputs": []
    },
    {
      "cell_type": "code",
      "metadata": {
        "colab": {
          "base_uri": "https://localhost:8080/"
        },
        "id": "cb0bdd2b",
        "outputId": "134ff036-6cfd-4072-93e6-3e8122c2b4c7"
      },
      "source": [
        "print(gcd(72, 50))"
      ],
      "execution_count": 9,
      "outputs": [
        {
          "output_type": "stream",
          "name": "stdout",
          "text": [
            "2\n"
          ]
        }
      ]
    },
    {
      "cell_type": "code",
      "metadata": {
        "colab": {
          "base_uri": "https://localhost:8080/"
        },
        "id": "2fd8d91a",
        "outputId": "3aac6ba8-519b-4b91-9ad2-cb8a3cd10953"
      },
      "source": [
        "# Using the values you provided for the 60th and 61st Fibonacci numbers\n",
        "f60 = 548008755920 # Assuming this is the correct f60 based on the previous value for f61\n",
        "f61 = 2503700422160\n",
        "\n",
        "# Calculate the gcd of f60 and f61\n",
        "result = gcd(f60, f61)\n",
        "\n",
        "print(f\"The greatest common divisor of the 60th and 61st Fibonacci numbers is: {result}\")"
      ],
      "execution_count": 11,
      "outputs": [
        {
          "output_type": "stream",
          "name": "stdout",
          "text": [
            "The greatest common divisor of the 60th and 61st Fibonacci numbers is: 80\n"
          ]
        }
      ]
    }
  ]
}