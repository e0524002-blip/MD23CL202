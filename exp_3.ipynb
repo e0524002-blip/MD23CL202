{
  "nbformat": 4,
  "nbformat_minor": 0,
  "metadata": {
    "colab": {
      "provenance": [],
      "authorship_tag": "ABX9TyNckm2D0bX8u2QN1RS/tzyr",
      "include_colab_link": true
    },
    "kernelspec": {
      "name": "python3",
      "display_name": "Python 3"
    },
    "language_info": {
      "name": "python"
    }
  },
  "cells": [
    {
      "cell_type": "markdown",
      "metadata": {
        "id": "view-in-github",
        "colab_type": "text"
      },
      "source": [
        "<a href=\"https://colab.research.google.com/github/e0524002-blip/MD23CL202/blob/main/exp_3.ipynb\" target=\"_parent\"><img src=\"https://colab.research.google.com/assets/colab-badge.svg\" alt=\"Open In Colab\"/></a>"
      ]
    },
    {
      "cell_type": "code",
      "execution_count": null,
      "metadata": {
        "colab": {
          "base_uri": "https://localhost:8080/"
        },
        "id": "gVsa3_yEd0IW",
        "outputId": "ea8f552d-ed7a-4a13-e7f3-c769c082c620"
      },
      "outputs": [
        {
          "output_type": "stream",
          "name": "stdout",
          "text": [
            "36\n"
          ]
        }
      ],
      "source": [
        "def runningSum(nums):\n",
        "  result = []\n",
        "  total = 0\n",
        "  for n in nums:\n",
        "    total +=n\n",
        "    result.append(total)\n",
        "  return result[-1]\n",
        "print(runningSum([10,20,5,1]))"
      ]
    },
    {
      "cell_type": "code",
      "source": [
        "def reverseList(nums):\n",
        "  return nums[:: -1]\n",
        "print(reverseList([1,2,3,4]))\n",
        "\n",
        "my_list =[10,5,1,0,-67]\n",
        "print(my_list[:: 2])\n",
        "print(my_list[:: 3])\n",
        "print(my_list[:: -2])\n",
        "print(my_list[:: -3])"
      ],
      "metadata": {
        "colab": {
          "base_uri": "https://localhost:8080/"
        },
        "id": "5qLO1DejiRl5",
        "outputId": "76a795c0-4ad4-4079-dd64-45db2dbb0371"
      },
      "execution_count": null,
      "outputs": [
        {
          "output_type": "stream",
          "name": "stdout",
          "text": [
            "[4, 3, 2, 1]\n",
            "[10, 1, -67]\n",
            "[10, 0]\n",
            "[-67, 1, 10]\n",
            "[-67, 5]\n"
          ]
        }
      ]
    },
    {
      "cell_type": "code",
      "source": [
        "def FindMax(nums):\n",
        "  max_num = nums[0]\n",
        "  for n in nums:\n",
        "    if n > max_num:\n",
        "      max_num = n\n",
        "  return max_num\n",
        "print(FindMax([3,7,2,9,8]))"
      ],
      "metadata": {
        "colab": {
          "base_uri": "https://localhost:8080/"
        },
        "id": "CamEG81zpDT4",
        "outputId": "cde84cdb-3398-4ce0-9fae-a7b562d7a65e"
      },
      "execution_count": null,
      "outputs": [
        {
          "output_type": "stream",
          "name": "stdout",
          "text": [
            "9\n"
          ]
        }
      ]
    },
    {
      "cell_type": "code",
      "source": [
        "def MaxDeposit(accounts):\n",
        "  return max(sum(cust)for cust in accounts)\n",
        "print(MaxDeposit([[100,52],[3,60]]))"
      ],
      "metadata": {
        "colab": {
          "base_uri": "https://localhost:8080/"
        },
        "id": "LehWx46lvZJD",
        "outputId": "f3c2bc7a-bc57-4237-b167-9e0ae3f94464"
      },
      "execution_count": null,
      "outputs": [
        {
          "output_type": "stream",
          "name": "stdout",
          "text": [
            "152\n"
          ]
        }
      ]
    },
    {
      "cell_type": "code",
      "source": [
        "def  twosum(num,target):\n",
        "  seen ={}\n",
        ""
      ],
      "metadata": {
        "id": "T2fogLhUxyF6"
      },
      "execution_count": null,
      "outputs": []
    }
  ]
}